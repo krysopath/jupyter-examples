{
 "cells": [
  {
   "cell_type": "markdown",
   "id": "890a566e",
   "metadata": {},
   "source": [
    "# we open a csv for analysis"
   ]
  },
  {
   "cell_type": "code",
   "execution_count": 1,
   "id": "35fe45fb",
   "metadata": {},
   "outputs": [],
   "source": [
    "import pandas as pd\n",
    "d = pd.read_csv(\"fortune500.csv\")"
   ]
  },
  {
   "cell_type": "code",
   "execution_count": 2,
   "id": "399bf5a8",
   "metadata": {},
   "outputs": [
    {
     "data": {
      "text/html": [
       "<div>\n",
       "<style scoped>\n",
       "    .dataframe tbody tr th:only-of-type {\n",
       "        vertical-align: middle;\n",
       "    }\n",
       "\n",
       "    .dataframe tbody tr th {\n",
       "        vertical-align: top;\n",
       "    }\n",
       "\n",
       "    .dataframe thead th {\n",
       "        text-align: right;\n",
       "    }\n",
       "</style>\n",
       "<table border=\"1\" class=\"dataframe\">\n",
       "  <thead>\n",
       "    <tr style=\"text-align: right;\">\n",
       "      <th></th>\n",
       "      <th>Year</th>\n",
       "      <th>Rank</th>\n",
       "      <th>Company</th>\n",
       "      <th>Revenue (in millions)</th>\n",
       "      <th>Profit (in millions)</th>\n",
       "    </tr>\n",
       "  </thead>\n",
       "  <tbody>\n",
       "    <tr>\n",
       "      <th>0</th>\n",
       "      <td>1955</td>\n",
       "      <td>1</td>\n",
       "      <td>General Motors</td>\n",
       "      <td>9823.5</td>\n",
       "      <td>806</td>\n",
       "    </tr>\n",
       "    <tr>\n",
       "      <th>1</th>\n",
       "      <td>1955</td>\n",
       "      <td>2</td>\n",
       "      <td>Exxon Mobil</td>\n",
       "      <td>5661.4</td>\n",
       "      <td>584.8</td>\n",
       "    </tr>\n",
       "  </tbody>\n",
       "</table>\n",
       "</div>"
      ],
      "text/plain": [
       "   Year  Rank         Company  Revenue (in millions) Profit (in millions)\n",
       "0  1955     1  General Motors                 9823.5                  806\n",
       "1  1955     2     Exxon Mobil                 5661.4                584.8"
      ]
     },
     "execution_count": 2,
     "metadata": {},
     "output_type": "execute_result"
    }
   ],
   "source": [
    "d.head(2)"
   ]
  },
  {
   "cell_type": "markdown",
   "id": "06979636",
   "metadata": {},
   "source": [
    " > examine dtypes and find that profit is actually on object instead of expected float64"
   ]
  },
  {
   "cell_type": "code",
   "execution_count": 3,
   "id": "0d1114f4",
   "metadata": {
    "scrolled": false
   },
   "outputs": [
    {
     "data": {
      "text/plain": [
       "Year                       int64\n",
       "Rank                       int64\n",
       "Company                   object\n",
       "Revenue (in millions)    float64\n",
       "Profit (in millions)      object\n",
       "dtype: object"
      ]
     },
     "execution_count": 3,
     "metadata": {},
     "output_type": "execute_result"
    }
   ],
   "source": [
    "d.dtypes"
   ]
  },
  {
   "cell_type": "code",
   "execution_count": 4,
   "id": "9224f922",
   "metadata": {},
   "outputs": [],
   "source": [
    "d.columns = [\"year\", \"rank\", \"company\", \"revenue_mio\", \"profit_mio\"]"
   ]
  },
  {
   "cell_type": "code",
   "execution_count": 5,
   "id": "06e9d22f",
   "metadata": {},
   "outputs": [
    {
     "data": {
      "text/html": [
       "<div>\n",
       "<style scoped>\n",
       "    .dataframe tbody tr th:only-of-type {\n",
       "        vertical-align: middle;\n",
       "    }\n",
       "\n",
       "    .dataframe tbody tr th {\n",
       "        vertical-align: top;\n",
       "    }\n",
       "\n",
       "    .dataframe thead th {\n",
       "        text-align: right;\n",
       "    }\n",
       "</style>\n",
       "<table border=\"1\" class=\"dataframe\">\n",
       "  <thead>\n",
       "    <tr style=\"text-align: right;\">\n",
       "      <th></th>\n",
       "      <th>year</th>\n",
       "      <th>rank</th>\n",
       "      <th>company</th>\n",
       "      <th>revenue_mio</th>\n",
       "      <th>profit_mio</th>\n",
       "    </tr>\n",
       "  </thead>\n",
       "  <tbody>\n",
       "    <tr>\n",
       "      <th>0</th>\n",
       "      <td>1955</td>\n",
       "      <td>1</td>\n",
       "      <td>General Motors</td>\n",
       "      <td>9823.5</td>\n",
       "      <td>806</td>\n",
       "    </tr>\n",
       "  </tbody>\n",
       "</table>\n",
       "</div>"
      ],
      "text/plain": [
       "   year  rank         company  revenue_mio profit_mio\n",
       "0  1955     1  General Motors       9823.5        806"
      ]
     },
     "execution_count": 5,
     "metadata": {},
     "output_type": "execute_result"
    }
   ],
   "source": [
    "d.head(1)"
   ]
  },
  {
   "cell_type": "code",
   "execution_count": 6,
   "id": "14129a4a",
   "metadata": {},
   "outputs": [
    {
     "data": {
      "text/plain": [
       "0        1955\n",
       "1        1955\n",
       "2        1955\n",
       "3        1955\n",
       "4        1955\n",
       "         ... \n",
       "25495    2005\n",
       "25496    2005\n",
       "25497    2005\n",
       "25498    2005\n",
       "25499    2005\n",
       "Name: year, Length: 25500, dtype: int64"
      ]
     },
     "execution_count": 6,
     "metadata": {},
     "output_type": "execute_result"
    }
   ],
   "source": [
    "d.year"
   ]
  },
  {
   "cell_type": "code",
   "execution_count": 7,
   "id": "cfc7c258",
   "metadata": {},
   "outputs": [
    {
     "data": {
      "text/plain": [
       "0          806\n",
       "1        584.8\n",
       "2        195.4\n",
       "3        212.6\n",
       "4         19.1\n",
       "         ...  \n",
       "25495      493\n",
       "25496    175.4\n",
       "25497     57.8\n",
       "25498     70.6\n",
       "25499      584\n",
       "Name: profit_mio, Length: 25500, dtype: object"
      ]
     },
     "execution_count": 7,
     "metadata": {},
     "output_type": "execute_result"
    }
   ],
   "source": [
    "d.profit_mio"
   ]
  },
  {
   "cell_type": "markdown",
   "id": "c6642f10",
   "metadata": {},
   "source": [
    "> we need to identify those fields in the profit column, where the value is not a number\n",
    "\n",
    "1. we use the regex r'[^0-9.-]' to find those values dont are not a number\n",
    "2. d.loc[not_a_number] shows the rows which have such a field (in our case they are N.A.)"
   ]
  },
  {
   "cell_type": "code",
   "execution_count": 8,
   "id": "f904b4c9",
   "metadata": {},
   "outputs": [
    {
     "data": {
      "text/html": [
       "<div>\n",
       "<style scoped>\n",
       "    .dataframe tbody tr th:only-of-type {\n",
       "        vertical-align: middle;\n",
       "    }\n",
       "\n",
       "    .dataframe tbody tr th {\n",
       "        vertical-align: top;\n",
       "    }\n",
       "\n",
       "    .dataframe thead th {\n",
       "        text-align: right;\n",
       "    }\n",
       "</style>\n",
       "<table border=\"1\" class=\"dataframe\">\n",
       "  <thead>\n",
       "    <tr style=\"text-align: right;\">\n",
       "      <th></th>\n",
       "      <th>year</th>\n",
       "      <th>rank</th>\n",
       "      <th>company</th>\n",
       "      <th>revenue_mio</th>\n",
       "      <th>profit_mio</th>\n",
       "    </tr>\n",
       "  </thead>\n",
       "  <tbody>\n",
       "    <tr>\n",
       "      <th>228</th>\n",
       "      <td>1955</td>\n",
       "      <td>229</td>\n",
       "      <td>Norton</td>\n",
       "      <td>135.0</td>\n",
       "      <td>N.A.</td>\n",
       "    </tr>\n",
       "    <tr>\n",
       "      <th>290</th>\n",
       "      <td>1955</td>\n",
       "      <td>291</td>\n",
       "      <td>Schlitz Brewing</td>\n",
       "      <td>100.0</td>\n",
       "      <td>N.A.</td>\n",
       "    </tr>\n",
       "    <tr>\n",
       "      <th>294</th>\n",
       "      <td>1955</td>\n",
       "      <td>295</td>\n",
       "      <td>Pacific Vegetable Oil</td>\n",
       "      <td>97.9</td>\n",
       "      <td>N.A.</td>\n",
       "    </tr>\n",
       "    <tr>\n",
       "      <th>296</th>\n",
       "      <td>1955</td>\n",
       "      <td>297</td>\n",
       "      <td>Liebmann Breweries</td>\n",
       "      <td>96.0</td>\n",
       "      <td>N.A.</td>\n",
       "    </tr>\n",
       "    <tr>\n",
       "      <th>352</th>\n",
       "      <td>1955</td>\n",
       "      <td>353</td>\n",
       "      <td>Minneapolis-Moline</td>\n",
       "      <td>77.4</td>\n",
       "      <td>N.A.</td>\n",
       "    </tr>\n",
       "    <tr>\n",
       "      <th>...</th>\n",
       "      <td>...</td>\n",
       "      <td>...</td>\n",
       "      <td>...</td>\n",
       "      <td>...</td>\n",
       "      <td>...</td>\n",
       "    </tr>\n",
       "    <tr>\n",
       "      <th>24242</th>\n",
       "      <td>2003</td>\n",
       "      <td>243</td>\n",
       "      <td>Farmland Industries</td>\n",
       "      <td>7580.2</td>\n",
       "      <td>N.A.</td>\n",
       "    </tr>\n",
       "    <tr>\n",
       "      <th>24296</th>\n",
       "      <td>2003</td>\n",
       "      <td>297</td>\n",
       "      <td>Land O'Lakes</td>\n",
       "      <td>5847.0</td>\n",
       "      <td>N.A.</td>\n",
       "    </tr>\n",
       "    <tr>\n",
       "      <th>24435</th>\n",
       "      <td>2003</td>\n",
       "      <td>436</td>\n",
       "      <td>Roundy's</td>\n",
       "      <td>3637.9</td>\n",
       "      <td>N.A.</td>\n",
       "    </tr>\n",
       "    <tr>\n",
       "      <th>24489</th>\n",
       "      <td>2003</td>\n",
       "      <td>490</td>\n",
       "      <td>Ace Hardware</td>\n",
       "      <td>3029.0</td>\n",
       "      <td>N.A.</td>\n",
       "    </tr>\n",
       "    <tr>\n",
       "      <th>25485</th>\n",
       "      <td>2005</td>\n",
       "      <td>486</td>\n",
       "      <td>Host Marriott</td>\n",
       "      <td>3773.0</td>\n",
       "      <td>N.A.</td>\n",
       "    </tr>\n",
       "  </tbody>\n",
       "</table>\n",
       "<p>369 rows × 5 columns</p>\n",
       "</div>"
      ],
      "text/plain": [
       "       year  rank                company  revenue_mio profit_mio\n",
       "228    1955   229                 Norton        135.0       N.A.\n",
       "290    1955   291        Schlitz Brewing        100.0       N.A.\n",
       "294    1955   295  Pacific Vegetable Oil         97.9       N.A.\n",
       "296    1955   297     Liebmann Breweries         96.0       N.A.\n",
       "352    1955   353     Minneapolis-Moline         77.4       N.A.\n",
       "...     ...   ...                    ...          ...        ...\n",
       "24242  2003   243    Farmland Industries       7580.2       N.A.\n",
       "24296  2003   297           Land O'Lakes       5847.0       N.A.\n",
       "24435  2003   436               Roundy's       3637.9       N.A.\n",
       "24489  2003   490           Ace Hardware       3029.0       N.A.\n",
       "25485  2005   486          Host Marriott       3773.0       N.A.\n",
       "\n",
       "[369 rows x 5 columns]"
      ]
     },
     "execution_count": 8,
     "metadata": {},
     "output_type": "execute_result"
    }
   ],
   "source": [
    "not_a_number = d.profit_mio.str.contains(r'[^0-9.-]')\n",
    "d.loc[not_a_number]"
   ]
  },
  {
   "cell_type": "markdown",
   "id": "a1514dfb",
   "metadata": {},
   "source": [
    "> what is the percentage of \"broken\" data to \"valid\" data in percent?"
   ]
  },
  {
   "cell_type": "code",
   "execution_count": 9,
   "id": "21127907",
   "metadata": {},
   "outputs": [
    {
     "data": {
      "text/plain": [
       "1.4470588235294117"
      ]
     },
     "execution_count": 9,
     "metadata": {},
     "output_type": "execute_result"
    }
   ],
   "source": [
    "len(d.profit_mio[not_a_number]) / len(d) * 100"
   ]
  },
  {
   "cell_type": "code",
   "execution_count": 10,
   "id": "9d935551",
   "metadata": {},
   "outputs": [],
   "source": [
    "# add matplotlib features to jupyter\n",
    "%matplotlib inline\n",
    "import matplotlib.pyplot as plt\n"
   ]
  },
  {
   "cell_type": "code",
   "execution_count": 11,
   "id": "987bf49d",
   "metadata": {},
   "outputs": [
    {
     "data": {
      "image/png": "[encoded data removed]",
      "text/plain": [
       "<Figure size 432x288 with 1 Axes>"
      ]
     },
     "metadata": {
      "needs_background": "light"
     },
     "output_type": "display_data"
    }
   ],
   "source": [
    "# we use matplotlib to plot an histogram of the broken data\n",
    "\n",
    "x,y,z = plt.hist(d.year[not_a_number], bins=range(1955, 2006))"
   ]
  },
  {
   "cell_type": "markdown",
   "id": "e40cec6e",
   "metadata": {},
   "source": [
    "> see that missing values are on average 10-15 per year\n",
    "\n",
    "> not more than 25 values are missing in a given year"
   ]
  },
  {
   "cell_type": "code",
   "execution_count": 12,
   "id": "cf9669a2",
   "metadata": {},
   "outputs": [
    {
     "data": {
      "text/plain": [
       "{'N.A.'}"
      ]
     },
     "execution_count": 12,
     "metadata": {},
     "output_type": "execute_result"
    }
   ],
   "source": [
    "# find all broken values or verify that all broken values are the same\n",
    "# maybe some fields contains something else than \"N.A.\"\n",
    "set(d.profit_mio[not_a_number])"
   ]
  },
  {
   "cell_type": "markdown",
   "id": "1c4b65cd",
   "metadata": {},
   "source": [
    "To create the cleaned data we just assign a new data frame using a `not_a_number` like a filter"
   ]
  },
  {
   "cell_type": "code",
   "execution_count": 13,
   "id": "4b0f8efd",
   "metadata": {},
   "outputs": [],
   "source": [
    "cleaned = d.loc[~not_a_number]"
   ]
  },
  {
   "cell_type": "code",
   "execution_count": 14,
   "id": "738f94b6",
   "metadata": {},
   "outputs": [
    {
     "data": {
      "text/html": [
       "<div>\n",
       "<style scoped>\n",
       "    .dataframe tbody tr th:only-of-type {\n",
       "        vertical-align: middle;\n",
       "    }\n",
       "\n",
       "    .dataframe tbody tr th {\n",
       "        vertical-align: top;\n",
       "    }\n",
       "\n",
       "    .dataframe thead th {\n",
       "        text-align: right;\n",
       "    }\n",
       "</style>\n",
       "<table border=\"1\" class=\"dataframe\">\n",
       "  <thead>\n",
       "    <tr style=\"text-align: right;\">\n",
       "      <th></th>\n",
       "      <th>year</th>\n",
       "      <th>rank</th>\n",
       "      <th>company</th>\n",
       "      <th>revenue_mio</th>\n",
       "      <th>profit_mio</th>\n",
       "    </tr>\n",
       "  </thead>\n",
       "  <tbody>\n",
       "    <tr>\n",
       "      <th>0</th>\n",
       "      <td>1955</td>\n",
       "      <td>1</td>\n",
       "      <td>General Motors</td>\n",
       "      <td>9823.5</td>\n",
       "      <td>806</td>\n",
       "    </tr>\n",
       "    <tr>\n",
       "      <th>1</th>\n",
       "      <td>1955</td>\n",
       "      <td>2</td>\n",
       "      <td>Exxon Mobil</td>\n",
       "      <td>5661.4</td>\n",
       "      <td>584.8</td>\n",
       "    </tr>\n",
       "    <tr>\n",
       "      <th>2</th>\n",
       "      <td>1955</td>\n",
       "      <td>3</td>\n",
       "      <td>U.S. Steel</td>\n",
       "      <td>3250.4</td>\n",
       "      <td>195.4</td>\n",
       "    </tr>\n",
       "    <tr>\n",
       "      <th>3</th>\n",
       "      <td>1955</td>\n",
       "      <td>4</td>\n",
       "      <td>General Electric</td>\n",
       "      <td>2959.1</td>\n",
       "      <td>212.6</td>\n",
       "    </tr>\n",
       "    <tr>\n",
       "      <th>4</th>\n",
       "      <td>1955</td>\n",
       "      <td>5</td>\n",
       "      <td>Esmark</td>\n",
       "      <td>2510.8</td>\n",
       "      <td>19.1</td>\n",
       "    </tr>\n",
       "  </tbody>\n",
       "</table>\n",
       "</div>"
      ],
      "text/plain": [
       "   year  rank           company  revenue_mio profit_mio\n",
       "0  1955     1    General Motors       9823.5        806\n",
       "1  1955     2       Exxon Mobil       5661.4      584.8\n",
       "2  1955     3        U.S. Steel       3250.4      195.4\n",
       "3  1955     4  General Electric       2959.1      212.6\n",
       "4  1955     5            Esmark       2510.8       19.1"
      ]
     },
     "execution_count": 14,
     "metadata": {},
     "output_type": "execute_result"
    }
   ],
   "source": [
    "cleaned.head()"
   ]
  },
  {
   "cell_type": "markdown",
   "id": "b84a55d1",
   "metadata": {},
   "source": [
    "Though the field tpe of the data is still object and not float64:"
   ]
  },
  {
   "cell_type": "code",
   "execution_count": 15,
   "id": "14083d04",
   "metadata": {
    "scrolled": true
   },
   "outputs": [
    {
     "data": {
      "text/plain": [
       "year             int64\n",
       "rank             int64\n",
       "company         object\n",
       "revenue_mio    float64\n",
       "profit_mio      object\n",
       "dtype: object"
      ]
     },
     "execution_count": 15,
     "metadata": {},
     "output_type": "execute_result"
    }
   ],
   "source": [
    "cleaned.dtypes"
   ]
  },
  {
   "cell_type": "code",
   "execution_count": 16,
   "id": "0471cc49",
   "metadata": {},
   "outputs": [
    {
     "name": "stderr",
     "output_type": "stream",
     "text": [
      "/tmp/ipykernel_1853400/1249065690.py:4: SettingWithCopyWarning: \n",
      "A value is trying to be set on a copy of a slice from a DataFrame.\n",
      "Try using .loc[row_indexer,col_indexer] = value instead\n",
      "\n",
      "See the caveats in the documentation: https://pandas.pydata.org/pandas-docs/stable/user_guide/indexing.html#returning-a-view-versus-a-copy\n",
      "  cleaned.profit_mio = cleaned.profit_mio.apply(pd.to_numeric)\n"
     ]
    }
   ],
   "source": [
    "# since pandas not supersmart, we tell it now:\n",
    "\n",
    "# the new cleaned data gets profit_mio field overwritten, with the result of pd.to_numeric \n",
    "cleaned.profit_mio = cleaned.profit_mio.apply(pd.to_numeric)"
   ]
  },
  {
   "cell_type": "code",
   "execution_count": 17,
   "id": "52bcc73d",
   "metadata": {},
   "outputs": [
    {
     "data": {
      "text/plain": [
       "year             int64\n",
       "rank             int64\n",
       "company         object\n",
       "revenue_mio    float64\n",
       "profit_mio     float64\n",
       "dtype: object"
      ]
     },
     "execution_count": 17,
     "metadata": {},
     "output_type": "execute_result"
    }
   ],
   "source": [
    "cleaned.dtypes"
   ]
  },
  {
   "cell_type": "code",
   "execution_count": 18,
   "id": "6a72918d",
   "metadata": {},
   "outputs": [
    {
     "data": {
      "text/plain": [
       "369"
      ]
     },
     "execution_count": 18,
     "metadata": {},
     "output_type": "execute_result"
    }
   ],
   "source": [
    "len(d.profit_mio[not_a_number])"
   ]
  },
  {
   "cell_type": "markdown",
   "id": "bdafe77a",
   "metadata": {},
   "source": [
    "To check if the removed only the right values we can compare the length of the cleaned data with the original one"
   ]
  },
  {
   "cell_type": "code",
   "execution_count": 19,
   "id": "1b1e20e9",
   "metadata": {},
   "outputs": [
    {
     "data": {
      "text/plain": [
       "True"
      ]
     },
     "execution_count": 19,
     "metadata": {},
     "output_type": "execute_result"
    }
   ],
   "source": [
    " len(d) - len(d.profit_mio[not_a_number]) == len(cleaned)"
   ]
  },
  {
   "cell_type": "code",
   "execution_count": 20,
   "id": "8f7132a6",
   "metadata": {},
   "outputs": [
    {
     "data": {
      "text/plain": [
       "year             int64\n",
       "rank             int64\n",
       "company         object\n",
       "revenue_mio    float64\n",
       "profit_mio     float64\n",
       "dtype: object"
      ]
     },
     "execution_count": 20,
     "metadata": {},
     "output_type": "execute_result"
    }
   ],
   "source": [
    "cleaned.dtypes"
   ]
  },
  {
   "cell_type": "code",
   "execution_count": 21,
   "id": "73d28b03",
   "metadata": {},
   "outputs": [],
   "source": [
    "by_year = cleaned.loc[:, ['year', 'revenue_mio', 'profit_mio']].groupby('year')"
   ]
  },
  {
   "cell_type": "code",
   "execution_count": 29,
   "id": "e1b12894",
   "metadata": {},
   "outputs": [
    {
     "data": {
      "text/html": [
       "<div>\n",
       "<style scoped>\n",
       "    .dataframe tbody tr th:only-of-type {\n",
       "        vertical-align: middle;\n",
       "    }\n",
       "\n",
       "    .dataframe tbody tr th {\n",
       "        vertical-align: top;\n",
       "    }\n",
       "\n",
       "    .dataframe thead th {\n",
       "        text-align: right;\n",
       "    }\n",
       "</style>\n",
       "<table border=\"1\" class=\"dataframe\">\n",
       "  <thead>\n",
       "    <tr style=\"text-align: right;\">\n",
       "      <th></th>\n",
       "      <th>revenue_mio</th>\n",
       "      <th>profit_mio</th>\n",
       "    </tr>\n",
       "    <tr>\n",
       "      <th>year</th>\n",
       "      <th></th>\n",
       "      <th></th>\n",
       "    </tr>\n",
       "  </thead>\n",
       "  <tbody>\n",
       "    <tr>\n",
       "      <th>1955</th>\n",
       "      <td>275.754453</td>\n",
       "      <td>16.732186</td>\n",
       "    </tr>\n",
       "    <tr>\n",
       "      <th>1956</th>\n",
       "      <td>323.604418</td>\n",
       "      <td>22.509237</td>\n",
       "    </tr>\n",
       "    <tr>\n",
       "      <th>1957</th>\n",
       "      <td>350.037626</td>\n",
       "      <td>23.181087</td>\n",
       "    </tr>\n",
       "    <tr>\n",
       "      <th>1958</th>\n",
       "      <td>377.977264</td>\n",
       "      <td>23.456740</td>\n",
       "    </tr>\n",
       "    <tr>\n",
       "      <th>1959</th>\n",
       "      <td>355.229376</td>\n",
       "      <td>19.279276</td>\n",
       "    </tr>\n",
       "    <tr>\n",
       "      <th>1960</th>\n",
       "      <td>395.231864</td>\n",
       "      <td>24.019439</td>\n",
       "    </tr>\n",
       "    <tr>\n",
       "      <th>1961</th>\n",
       "      <td>410.552410</td>\n",
       "      <td>23.340361</td>\n",
       "    </tr>\n",
       "    <tr>\n",
       "      <th>1962</th>\n",
       "      <td>419.556827</td>\n",
       "      <td>23.326104</td>\n",
       "    </tr>\n",
       "    <tr>\n",
       "      <th>1963</th>\n",
       "      <td>458.164200</td>\n",
       "      <td>26.965000</td>\n",
       "    </tr>\n",
       "    <tr>\n",
       "      <th>1964</th>\n",
       "      <td>490.181600</td>\n",
       "      <td>29.675800</td>\n",
       "    </tr>\n",
       "    <tr>\n",
       "      <th>1965</th>\n",
       "      <td>533.858517</td>\n",
       "      <td>34.543287</td>\n",
       "    </tr>\n",
       "    <tr>\n",
       "      <th>1966</th>\n",
       "      <td>596.118200</td>\n",
       "      <td>40.023000</td>\n",
       "    </tr>\n",
       "    <tr>\n",
       "      <th>1967</th>\n",
       "      <td>665.160800</td>\n",
       "      <td>44.155400</td>\n",
       "    </tr>\n",
       "    <tr>\n",
       "      <th>1968</th>\n",
       "      <td>717.771600</td>\n",
       "      <td>42.801200</td>\n",
       "    </tr>\n",
       "    <tr>\n",
       "      <th>1969</th>\n",
       "      <td>810.546400</td>\n",
       "      <td>48.387400</td>\n",
       "    </tr>\n",
       "    <tr>\n",
       "      <th>1970</th>\n",
       "      <td>889.436400</td>\n",
       "      <td>49.354800</td>\n",
       "    </tr>\n",
       "    <tr>\n",
       "      <th>1971</th>\n",
       "      <td>930.380122</td>\n",
       "      <td>43.952535</td>\n",
       "    </tr>\n",
       "    <tr>\n",
       "      <th>1972</th>\n",
       "      <td>1013.868699</td>\n",
       "      <td>47.585569</td>\n",
       "    </tr>\n",
       "    <tr>\n",
       "      <th>1973</th>\n",
       "      <td>1122.406085</td>\n",
       "      <td>56.448479</td>\n",
       "    </tr>\n",
       "    <tr>\n",
       "      <th>1974</th>\n",
       "      <td>1342.981744</td>\n",
       "      <td>78.461460</td>\n",
       "    </tr>\n",
       "    <tr>\n",
       "      <th>1975</th>\n",
       "      <td>1674.533401</td>\n",
       "      <td>88.345547</td>\n",
       "    </tr>\n",
       "    <tr>\n",
       "      <th>1976</th>\n",
       "      <td>1740.684178</td>\n",
       "      <td>76.774645</td>\n",
       "    </tr>\n",
       "    <tr>\n",
       "      <th>1977</th>\n",
       "      <td>1953.818256</td>\n",
       "      <td>100.138742</td>\n",
       "    </tr>\n",
       "    <tr>\n",
       "      <th>1978</th>\n",
       "      <td>2190.829532</td>\n",
       "      <td>107.128921</td>\n",
       "    </tr>\n",
       "    <tr>\n",
       "      <th>1979</th>\n",
       "      <td>2455.912220</td>\n",
       "      <td>125.347862</td>\n",
       "    </tr>\n",
       "    <tr>\n",
       "      <th>1980</th>\n",
       "      <td>2907.460446</td>\n",
       "      <td>158.932049</td>\n",
       "    </tr>\n",
       "    <tr>\n",
       "      <th>1981</th>\n",
       "      <td>3322.324797</td>\n",
       "      <td>165.021748</td>\n",
       "    </tr>\n",
       "    <tr>\n",
       "      <th>1982</th>\n",
       "      <td>3578.050000</td>\n",
       "      <td>171.926327</td>\n",
       "    </tr>\n",
       "    <tr>\n",
       "      <th>1983</th>\n",
       "      <td>3376.060285</td>\n",
       "      <td>125.104684</td>\n",
       "    </tr>\n",
       "    <tr>\n",
       "      <th>1984</th>\n",
       "      <td>3417.707566</td>\n",
       "      <td>140.670143</td>\n",
       "    </tr>\n",
       "    <tr>\n",
       "      <th>1985</th>\n",
       "      <td>3579.025051</td>\n",
       "      <td>176.473306</td>\n",
       "    </tr>\n",
       "    <tr>\n",
       "      <th>1986</th>\n",
       "      <td>3719.951782</td>\n",
       "      <td>145.980294</td>\n",
       "    </tr>\n",
       "    <tr>\n",
       "      <th>1987</th>\n",
       "      <td>3550.537945</td>\n",
       "      <td>134.419916</td>\n",
       "    </tr>\n",
       "    <tr>\n",
       "      <th>1988</th>\n",
       "      <td>3830.829167</td>\n",
       "      <td>188.693750</td>\n",
       "    </tr>\n",
       "    <tr>\n",
       "      <th>1989</th>\n",
       "      <td>4185.644958</td>\n",
       "      <td>241.518908</td>\n",
       "    </tr>\n",
       "    <tr>\n",
       "      <th>1990</th>\n",
       "      <td>4445.101040</td>\n",
       "      <td>219.716632</td>\n",
       "    </tr>\n",
       "    <tr>\n",
       "      <th>1991</th>\n",
       "      <td>4737.670833</td>\n",
       "      <td>194.674583</td>\n",
       "    </tr>\n",
       "    <tr>\n",
       "      <th>1992</th>\n",
       "      <td>4652.094781</td>\n",
       "      <td>114.938622</td>\n",
       "    </tr>\n",
       "    <tr>\n",
       "      <th>1993</th>\n",
       "      <td>4840.281612</td>\n",
       "      <td>-0.405165</td>\n",
       "    </tr>\n",
       "    <tr>\n",
       "      <th>1994</th>\n",
       "      <td>4845.192769</td>\n",
       "      <td>129.387810</td>\n",
       "    </tr>\n",
       "    <tr>\n",
       "      <th>1995</th>\n",
       "      <td>8598.021660</td>\n",
       "      <td>435.736640</td>\n",
       "    </tr>\n",
       "    <tr>\n",
       "      <th>1996</th>\n",
       "      <td>9443.810526</td>\n",
       "      <td>493.942105</td>\n",
       "    </tr>\n",
       "    <tr>\n",
       "      <th>1997</th>\n",
       "      <td>10178.209677</td>\n",
       "      <td>606.676815</td>\n",
       "    </tr>\n",
       "    <tr>\n",
       "      <th>1998</th>\n",
       "      <td>11072.683300</td>\n",
       "      <td>652.375050</td>\n",
       "    </tr>\n",
       "    <tr>\n",
       "      <th>1999</th>\n",
       "      <td>11512.835614</td>\n",
       "      <td>672.704628</td>\n",
       "    </tr>\n",
       "    <tr>\n",
       "      <th>2000</th>\n",
       "      <td>12701.881250</td>\n",
       "      <td>825.773387</td>\n",
       "    </tr>\n",
       "    <tr>\n",
       "      <th>2001</th>\n",
       "      <td>14398.209859</td>\n",
       "      <td>893.058753</td>\n",
       "    </tr>\n",
       "    <tr>\n",
       "      <th>2002</th>\n",
       "      <td>14634.109073</td>\n",
       "      <td>415.736694</td>\n",
       "    </tr>\n",
       "    <tr>\n",
       "      <th>2003</th>\n",
       "      <td>13995.498990</td>\n",
       "      <td>140.546263</td>\n",
       "    </tr>\n",
       "    <tr>\n",
       "      <th>2004</th>\n",
       "      <td>14930.537000</td>\n",
       "      <td>891.185400</td>\n",
       "    </tr>\n",
       "    <tr>\n",
       "      <th>2005</th>\n",
       "      <td>16521.448096</td>\n",
       "      <td>1028.991182</td>\n",
       "    </tr>\n",
       "  </tbody>\n",
       "</table>\n",
       "</div>"
      ],
      "text/plain": [
       "       revenue_mio   profit_mio\n",
       "year                           \n",
       "1955    275.754453    16.732186\n",
       "1956    323.604418    22.509237\n",
       "1957    350.037626    23.181087\n",
       "1958    377.977264    23.456740\n",
       "1959    355.229376    19.279276\n",
       "1960    395.231864    24.019439\n",
       "1961    410.552410    23.340361\n",
       "1962    419.556827    23.326104\n",
       "1963    458.164200    26.965000\n",
       "1964    490.181600    29.675800\n",
       "1965    533.858517    34.543287\n",
       "1966    596.118200    40.023000\n",
       "1967    665.160800    44.155400\n",
       "1968    717.771600    42.801200\n",
       "1969    810.546400    48.387400\n",
       "1970    889.436400    49.354800\n",
       "1971    930.380122    43.952535\n",
       "1972   1013.868699    47.585569\n",
       "1973   1122.406085    56.448479\n",
       "1974   1342.981744    78.461460\n",
       "1975   1674.533401    88.345547\n",
       "1976   1740.684178    76.774645\n",
       "1977   1953.818256   100.138742\n",
       "1978   2190.829532   107.128921\n",
       "1979   2455.912220   125.347862\n",
       "1980   2907.460446   158.932049\n",
       "1981   3322.324797   165.021748\n",
       "1982   3578.050000   171.926327\n",
       "1983   3376.060285   125.104684\n",
       "1984   3417.707566   140.670143\n",
       "1985   3579.025051   176.473306\n",
       "1986   3719.951782   145.980294\n",
       "1987   3550.537945   134.419916\n",
       "1988   3830.829167   188.693750\n",
       "1989   4185.644958   241.518908\n",
       "1990   4445.101040   219.716632\n",
       "1991   4737.670833   194.674583\n",
       "1992   4652.094781   114.938622\n",
       "1993   4840.281612    -0.405165\n",
       "1994   4845.192769   129.387810\n",
       "1995   8598.021660   435.736640\n",
       "1996   9443.810526   493.942105\n",
       "1997  10178.209677   606.676815\n",
       "1998  11072.683300   652.375050\n",
       "1999  11512.835614   672.704628\n",
       "2000  12701.881250   825.773387\n",
       "2001  14398.209859   893.058753\n",
       "2002  14634.109073   415.736694\n",
       "2003  13995.498990   140.546263\n",
       "2004  14930.537000   891.185400\n",
       "2005  16521.448096  1028.991182"
      ]
     },
     "execution_count": 29,
     "metadata": {},
     "output_type": "execute_result"
    }
   ],
   "source": [
    "by_year.mean()"
   ]
  },
  {
   "cell_type": "code",
   "execution_count": 45,
   "id": "f7ad8f98",
   "metadata": {},
   "outputs": [],
   "source": [
    "def plot(x, y, ax, y_label, color):\n",
    "    ax.set_ylabel(y_label)\n",
    "    ax.plot(x, y, color=color)\n",
    "    ax.margins(.01, .01)"
   ]
  },
  {
   "cell_type": "code",
   "execution_count": 24,
   "id": "e963d3a6",
   "metadata": {},
   "outputs": [
    {
     "data": {
      "image/png": "[encoded data removed]",
      "text/plain": [
       "<Figure size 432x288 with 1 Axes>"
      ]
     },
     "metadata": {
      "needs_background": "light"
     },
     "output_type": "display_data"
    }
   ],
   "source": [
    "avgs = by_year.mean()\n",
    "\n",
    "fig, ax = plt.subplots()\n",
    "ax.set_title(\"avg profits by year\")\n",
    "plot(avgs.index, avgs.profit_mio, ax, \"Mio. $\", \"red\")"
   ]
  },
  {
   "cell_type": "code",
   "execution_count": 25,
   "id": "6fd9155d",
   "metadata": {},
   "outputs": [
    {
     "data": {
      "image/png": "[encoded data removed]",
      "text/plain": [
       "<Figure size 432x288 with 1 Axes>"
      ]
     },
     "metadata": {
      "needs_background": "light"
     },
     "output_type": "display_data"
    }
   ],
   "source": [
    "fig, ax = plt.subplots()\n",
    "ax.set_title(\"avg revenue by year\")\n",
    "plot(avgs.index, avgs.revenue_mio, ax, \"Mio. $\", \"blue\")"
   ]
  },
  {
   "cell_type": "code",
   "execution_count": 26,
   "id": "53498e41",
   "metadata": {},
   "outputs": [],
   "source": [
    "import seaborn as sns\n",
    "\n",
    "sns.set(style=\"darkgrid\")"
   ]
  },
  {
   "cell_type": "code",
   "execution_count": 44,
   "id": "55a6a87b",
   "metadata": {},
   "outputs": [
    {
     "data": {
      "image/png": "[encoded data removed]",
      "text/plain": [
       "<Figure size 1008x288 with 1 Axes>"
      ]
     },
     "metadata": {},
     "output_type": "display_data"
    }
   ],
   "source": [
    "fig, ax  = plt.subplots()\n",
    "ax.set_title(\"avg revenue and profits by year\")\n",
    "plot(avgs.index, avgs.profit_mio, ax, \"Mio. $\", \"green\")\n",
    "plot(avgs.index, avgs.revenue_mio, ax, \"Mio. $\", \"orange\")\n",
    "\n",
    "fig.set_size_inches(14, 4)\n",
    "fig.tight_layout()"
   ]
  },
  {
   "cell_type": "markdown",
   "id": "db9544c8",
   "metadata": {},
   "source": [
    "Now lets investigate standart deviation:"
   ]
  },
  {
   "cell_type": "code",
   "execution_count": 30,
   "id": "98bb7461",
   "metadata": {},
   "outputs": [],
   "source": [
    "# lets define new plot function that can show it on the graph\n",
    "\n",
    "def plot_with_std_dev(x, y, std_dev, ax, y_label, color):\n",
    "    ax.fill_between(x, y - std_dev, y + std_dev, alpha=0.1)\n",
    "    plot(x, y, ax, y_label, color)\n",
    "    "
   ]
  },
  {
   "cell_type": "markdown",
   "id": "fa832e52",
   "metadata": {},
   "source": [
    "Lets compute the standart deviations now:"
   ]
  },
  {
   "cell_type": "code",
   "execution_count": 35,
   "id": "6ab2147d",
   "metadata": {},
   "outputs": [],
   "source": [
    "std_profit = by_year.std().profit_mio\n"
   ]
  },
  {
   "cell_type": "code",
   "execution_count": 47,
   "id": "08143ba0",
   "metadata": {},
   "outputs": [
    {
     "data": {
      "image/png": "[encoded data removed]",
      "text/plain": [
       "<Figure size 1008x288 with 1 Axes>"
      ]
     },
     "metadata": {},
     "output_type": "display_data"
    }
   ],
   "source": [
    "fig, ax  = plt.subplots()\n",
    "ax.set_title(\"profits and std deviation by year\")\n",
    "plot_with_std_dev(avgs.index, avgs.profit_mio, std_profit, ax, \"Mio. $\", \"green\")\n",
    "\n",
    "fig.set_size_inches(14, 4)\n",
    "fig.tight_layout()"
   ]
  },
  {
   "cell_type": "code",
   "execution_count": 46,
   "id": "4448edca",
   "metadata": {},
   "outputs": [
    {
     "data": {
      "image/png": "[encoded data removed]",
      "text/plain": [
       "<Figure size 1008x288 with 1 Axes>"
      ]
     },
     "metadata": {},
     "output_type": "display_data"
    }
   ],
   "source": [
    "std_revenue = by_year.std().revenue_mio\n",
    "\n",
    "fig, ax  = plt.subplots()\n",
    "ax.set_title(\"revenue and std deviation by year\")\n",
    "plot_with_std_dev(avgs.index, avgs.revenue_mio, std_revenue, ax, \"Mio. $\", \"orange\")\n",
    "\n",
    "fig.set_size_inches(14, 4)\n",
    "fig.tight_layout()"
   ]
  },
  {
   "cell_type": "code",
   "execution_count": null,
   "id": "eaa43e0a",
   "metadata": {},
   "outputs": [],
   "source": []
  },
  {
   "cell_type": "code",
   "execution_count": null,
   "id": "0f5cdc6c",
   "metadata": {},
   "outputs": [],
   "source": []
  }
 ],
 "metadata": {
  "kernelspec": {
   "display_name": "Python 3 (ipykernel)",
   "language": "python",
   "name": "python3"
  },
  "language_info": {
   "codemirror_mode": {
    "name": "ipython",
    "version": 3
   },
   "file_extension": ".py",
   "mimetype": "text/x-python",
   "name": "python",
   "nbconvert_exporter": "python",
   "pygments_lexer": "ipython3",
   "version": "3.9.7"
  }
 },
 "nbformat": 4,
 "nbformat_minor": 5
}
